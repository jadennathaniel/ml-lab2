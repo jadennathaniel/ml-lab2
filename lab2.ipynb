{
 "cells": [
  {
   "cell_type": "code",
   "execution_count": 1,
   "metadata": {},
   "outputs": [],
   "source": [
    "import pandas as pd\n",
    "import numpy as np\n",
    "import tensorflow as tf\n",
    "import tensorflow_datasets as tfds\n",
    "from sklearn.preprocessing import StandardScaler\n",
    "from sklearn.decomposition import PCA\n",
    "from matplotlib import pyplot as plt\n",
    "# Load the dataset\n",
    "(train_ds, test_ds), ds_info = tfds.load('stanford_dogs',\n",
    "                                         split=['train', 'test'],\n",
    "                                         shuffle_files=True,\n",
    "                                         as_supervised=True,\n",
    "                                         with_info=True)"
   ]
  },
  {
   "cell_type": "code",
   "execution_count": 19,
   "metadata": {},
   "outputs": [],
   "source": [
    "# resize images, flatten each image to a 1D array, and convert dataset to numpy arrays\n",
    "def dataset_to_numpy(dataset, img_size=(224, 224)):\n",
    "    images = []\n",
    "    labels = []\n",
    "    for image, label in tfds.as_numpy(dataset):\n",
    "        image = tf.image.resize(image, img_size).numpy()\n",
    "        image = image.flatten()  # Flatten the image to a 1D array\n",
    "        images.append(image)\n",
    "        labels.append(label)\n",
    "    return np.array(images), np.array(labels)\n",
    "\n",
    "train_images, train_labels = dataset_to_numpy(train_ds)\n",
    "test_images, test_labels = dataset_to_numpy(test_ds)"
   ]
  },
  {
   "cell_type": "code",
   "execution_count": null,
   "metadata": {},
   "outputs": [],
   "source": []
  },
  {
   "cell_type": "code",
   "execution_count": 17,
   "metadata": {},
   "outputs": [
    {
     "ename": "ValueError",
     "evalue": "too many values to unpack (expected 3)",
     "output_type": "error",
     "traceback": [
      "\u001b[0;31m---------------------------------------------------------------------------\u001b[0m",
      "\u001b[0;31mValueError\u001b[0m                                Traceback (most recent call last)",
      "Cell \u001b[0;32mIn[17], line 5\u001b[0m\n\u001b[1;32m      2\u001b[0m \u001b[38;5;28;01mfrom\u001b[39;00m \u001b[38;5;21;01msklearn\u001b[39;00m\u001b[38;5;21;01m.\u001b[39;00m\u001b[38;5;21;01mdecomposition\u001b[39;00m \u001b[38;5;28;01mimport\u001b[39;00m PCA\n\u001b[1;32m      4\u001b[0m \u001b[38;5;66;03m# Flatten the images\u001b[39;00m\n\u001b[0;32m----> 5\u001b[0m n_samples, height, width \u001b[38;5;241m=\u001b[39m train_images\u001b[38;5;241m.\u001b[39mshape\n\u001b[1;32m      6\u001b[0m train_images_flattened \u001b[38;5;241m=\u001b[39m train_images\u001b[38;5;241m.\u001b[39mreshape(n_samples, height \u001b[38;5;241m*\u001b[39m width)\n\u001b[1;32m      8\u001b[0m \u001b[38;5;66;03m# Perform PCA on the top 300 images in the dataset\u001b[39;00m\n",
      "\u001b[0;31mValueError\u001b[0m: too many values to unpack (expected 3)"
     ]
    }
   ],
   "source": [
    "# Linear dimensionality reduction of the images using principal components analysis\n",
    "from sklearn.decomposition import PCA\n",
    "\n",
    "# Flatten the images\n",
    "n_samples, height, width, channels = train_images.shape\n",
    "train_images_flattened = train_images.reshape(n_samples, height * width)\n",
    "\n",
    "# Perform PCA on the top 300 images in the dataset\n",
    "n_components = 300\n",
    "pca = PCA(n_components=n_components)\n",
    "pca.fit(train_images_flattened)\n",
    "eigenimages = pca.components_.reshape((n_components, height, width))\n",
    "\n",
    "# Now eigenimages contains the principal components reshaped to the original image dimensions\n"
   ]
  },
  {
   "cell_type": "code",
   "execution_count": 18,
   "metadata": {},
   "outputs": [
    {
     "data": {
      "text/plain": [
       "(12000, 224, 224, 3)"
      ]
     },
     "execution_count": 18,
     "metadata": {},
     "output_type": "execute_result"
    }
   ],
   "source": [
    "train_images.shape"
   ]
  },
  {
   "cell_type": "code",
   "execution_count": 15,
   "metadata": {},
   "outputs": [
    {
     "data": {
      "image/png": "[encoded data removed]",
      "text/plain": [
       "<Figure size 1500x500 with 10 Axes>"
      ]
     },
     "metadata": {},
     "output_type": "display_data"
    }
   ],
   "source": [
    "# BEGIN: show the eigenimages\n",
    "fig, axes = plt.subplots(1, 10, figsize=(15, 5))\n",
    "for i, ax in enumerate(axes):\n",
    "    ax.imshow(eigenimages[i].astype(\"uint8\"))\n",
    "    ax.set_title(f\"Eigenimage {i+1}\")\n",
    "    ax.axis('off')\n",
    "plt.show()\n",
    "# END: show the eigenimages"
   ]
  },
  {
   "cell_type": "code",
   "execution_count": 11,
   "metadata": {},
   "outputs": [
    {
     "data": {
      "image/png": "[encoded data removed]",
      "text/plain": [
       "<Figure size 1500x500 with 10 Axes>"
      ]
     },
     "metadata": {},
     "output_type": "display_data"
    }
   ],
   "source": []
  }
 ],
 "metadata": {
  "kernelspec": {
   "display_name": "mlenv2024",
   "language": "python",
   "name": "python3"
  },
  "language_info": {
   "codemirror_mode": {
    "name": "ipython",
    "version": 3
   },
   "file_extension": ".py",
   "mimetype": "text/x-python",
   "name": "python",
   "nbconvert_exporter": "python",
   "pygments_lexer": "ipython3",
   "version": "3.8.19"
  }
 },
 "nbformat": 4,
 "nbformat_minor": 2
}
